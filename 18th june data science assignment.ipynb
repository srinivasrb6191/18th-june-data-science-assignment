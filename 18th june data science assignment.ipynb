{
 "cells": [
  {
   "cell_type": "markdown",
   "id": "631f98f5",
   "metadata": {},
   "source": [
    "### 1. What is the role of the 'else' block in a try-except statement? Provide an example scenario where it would be useful.\n",
    "Ans: In a try-except statement, the 'else' block is optional and is executed only if no exception occurs in the corresponding 'try' block. Its role is to provide a section of code to be executed when the 'try' block completes successfully, without raising any exceptions.\n",
    "\n",
    "Here is an example-"
   ]
  },
  {
   "cell_type": "code",
   "execution_count": 1,
   "id": "6e21c47a",
   "metadata": {},
   "outputs": [
    {
     "name": "stdout",
     "output_type": "stream",
     "text": [
      "Enter the dividend: 23\n",
      "Enter the divisor: 27\n",
      "The result of division is: 0.8518518518518519\n",
      "Division operation completed.\n"
     ]
    }
   ],
   "source": [
    "def divide_numbers(dividend, divisor):\n",
    "    try:\n",
    "        result = dividend / divisor\n",
    "    except ZeroDivisionError:\n",
    "        print(\"Error: Cannot divide by zero!\")\n",
    "    else:\n",
    "        print(f\"The result of division is: {result}\")\n",
    "    finally:\n",
    "        print(\"Division operation completed.\")\n",
    "\n",
    "# Main program\n",
    "try:\n",
    "    dividend = float(input(\"Enter the dividend: \"))\n",
    "    divisor = float(input(\"Enter the divisor: \"))\n",
    "    divide_numbers(dividend, divisor)\n",
    "except ValueError:\n",
    "    print(\"Error: Please enter valid numbers.\")"
   ]
  },
  {
   "cell_type": "markdown",
   "id": "e112e90f",
   "metadata": {},
   "source": [
    "### 2. Can a try-except block be nested inside another try-except block? Explain with an example.\n",
    "Ans: Yes, a try-except block can be nested inside another try-except block. This allows for more granular exception handling and the ability to handle different types of exceptions at different levels of code execution.\n",
    "\n",
    "Here is an example-"
   ]
  },
  {
   "cell_type": "code",
   "execution_count": 2,
   "id": "b12d9e23",
   "metadata": {},
   "outputs": [
    {
     "name": "stdout",
     "output_type": "stream",
     "text": [
      "Inner except block: Cannot divide by zero!\n",
      "Inner finally block\n",
      "Outer finally block\n"
     ]
    }
   ],
   "source": [
    "try:\n",
    "    try:\n",
    "        result = 10 / 0  # This will raise a ZeroDivisionError\n",
    "    except ZeroDivisionError:\n",
    "        print(\"Inner except block: Cannot divide by zero!\")\n",
    "    finally:\n",
    "        print(\"Inner finally block\")\n",
    "except ZeroDivisionError:\n",
    "    print(\"Outer except block: Cannot divide by zero!\")\n",
    "finally:\n",
    "    print(\"Outer finally block\")"
   ]
  },
  {
   "cell_type": "markdown",
   "id": "da2e9696",
   "metadata": {},
   "source": [
    "#### 3. How can you create a custom exception class in Python? Provide an example that demonstrates its usage.\n",
    "Ans: To create a custom exception class in Python, you need to define a new class that inherits from the built-in Exception class.\n",
    "\n",
    "Here is an example that demonstrates the creation and usage of a custom exception class:"
   ]
  },
  {
   "cell_type": "code",
   "execution_count": 3,
   "id": "5465e3ee",
   "metadata": {},
   "outputs": [
    {
     "name": "stdout",
     "output_type": "stream",
     "text": [
      "Custom Exception: Cannot divide by zero\n"
     ]
    }
   ],
   "source": [
    "class CustomException(Exception):\n",
    "    def __init__(self, message):\n",
    "        self.message = message\n",
    "\n",
    "def divide(a, b):\n",
    "    if b == 0:\n",
    "        raise CustomException(\"Cannot divide by zero\")\n",
    "    return a / b\n",
    "\n",
    "# Example usage\n",
    "try:\n",
    "    result = divide(10, 0)\n",
    "except CustomException as e:\n",
    "    print(f\"Custom Exception: {e.message}\")"
   ]
  },
  {
   "cell_type": "markdown",
   "id": "482ace56",
   "metadata": {},
   "source": [
    "## 4. What are some common exceptions that are built-in to Python?\n",
    "Ans: Some common built-in exceptions in Python include:\n",
    "\n",
    "ImportError: Raised when an imported module does not exist.\n",
    "\n",
    "IndentationError: Raised when indentation is incorrect.\n",
    "\n",
    "IndexError: Raised when an index of a sequence does not exist.\n",
    "\n",
    "KeyError: Raised when a key does not exist in a dictionary.\n",
    "\n",
    "NameError: Raised when a variable does not exist.\n",
    "\n",
    "TypeError: Raised when two different types are combined.\n",
    "\n",
    "ValueError: Raised when there is a wrong value in a specified data type.\n",
    "\n",
    "ZeroDivisionError: Raised when the second operator in a division is zero.\n",
    "\n",
    "AttributeError: Raised when attribute reference or assignment fails.\n",
    "\n",
    "EOFError: Raised when the input() method hits an \"end of file\" condition (EOF).\n",
    "\n",
    "SyntaxError: Raised when a syntax error occurs.\n",
    "\n",
    "SystemExit: Raised when the sys.exit() function is called.\n",
    "\n",
    "5. What is logging in Python, and why is it important in software development?\n",
    "\n",
    "Ans: Logging in Python is a module that allows developers to track events that occur while a program is running.\n",
    "\n",
    "It is crucial in software development for debugging, troubleshooting, and monitoring programs. By using logging, developers can record information about errors, warnings, and other events during program execution. Python's logging module provides fine-grained control over how log messages are handled, allowing developers to set levels to identify critical messages and filter them more flexibly.\n",
    "\n",
    "6. Explain the purpose of log levels in Python logging and provide examples of when each log level would be appropriate.\n",
    "\n",
    "Ans: In Python logging, log levels indicate the severity of a log message, allowing developers to categorize and filter log entries based on their importance. Here are the common log levels in Python--\n",
    "\n",
    "NOTSET (0): The default level when a log is created, typically not used explicitly. The root logger is usually created with level WARNING.\n",
    "\n",
    "DEBUG (10): Used for detailed information useful for debugging purposes, providing insights into the program's internal state or flow. For example, detailed variable values during program execution.\n",
    "\n",
    "INFO (20): Confirms that things are working as expected, providing general information about the program's operation. Suitable for confirming successful operations or milestones reached.\n",
    "\n",
    "WARNING (30): Indicates something unexpected happened or a potential problem in the near future. Useful for highlighting issues that may need attention but do not prevent the program from running.\n",
    "\n",
    "ERROR (40): Signifies a more serious problem where the software was unable to perform a function due to an error. Used to report errors that impact the program's functionality but do not stop it entirely.\n",
    "\n",
    "CRITICAL (50): Indicates a severe error that prevents the program from continuing to run. Used for critical errors that require immediate attention as they can lead to program failure.\n",
    "\n",
    "7. What are log formatters in Python logging, and how can you customise the log message format using formatters?\n",
    "\n",
    "Ans: In Python logging, log formatters are objects responsible for defining the layout and structure of log messages. They allow developers to customize the format of log messages, including the timestamp, log level, message content, and additional contextual information.\n",
    "\n",
    "Here is how you can customize the log message format using formatters in Python logging:"
   ]
  },
  {
   "cell_type": "code",
   "execution_count": 4,
   "id": "e1513fbc",
   "metadata": {},
   "outputs": [],
   "source": [
    "import logging\n",
    "\n",
    "# Define a custom log formatter\n",
    "class CustomFormatter(logging.Formatter):\n",
    "    def format(self, record):\n",
    "        # Customize the log message format\n",
    "        return f\"{record.levelname}: {record.msg}\"\n",
    "\n",
    "# Create a logger\n",
    "logger = logging.getLogger(\"example\")\n",
    "logger.setLevel(logging.DEBUG)\n",
    "\n",
    "# Create a file handler and set the log level\n",
    "file_handler = logging.FileHandler(\"example.log\")\n",
    "file_handler.setLevel(logging.DEBUG)\n",
    "\n",
    "# Create an instance of the custom formatter and set it on the file handler\n",
    "formatter = CustomFormatter()\n",
    "file_handler.setFormatter(formatter)\n",
    "\n",
    "# Add the file handler to the logger\n",
    "logger.addHandler(file_handler)\n",
    "\n",
    "# Log some messages\n",
    "logger.debug(\"This is a debug message.\")\n",
    "logger.info(\"This is an info message.\")\n",
    "logger.warning(\"This is a warning message.\")"
   ]
  },
  {
   "cell_type": "markdown",
   "id": "e160327a",
   "metadata": {},
   "source": [
    "###### 8. How can you set up logging to capture log messages from multiple modules or classes in a Python application?\n",
    "Ans: In Python, you can set up logging to capture log messages from multiple modules or classes by following these steps:\n",
    "\n",
    "Create a Logger: First, create a logger object using the logging.getLogger() function. Give the logger a unique name to distinguish it from other loggers.\n",
    "\n",
    "Configure Logging Level: Set the logging level for the logger using the setLevel() method. This controls which log messages are captured by the logger based on their severity.\n",
    "\n",
    "Create Log Handlers: Create one or more log handlers to define where log messages should be sent. Handlers can send log messages to different destinations such as the console, files, or network streams.\n",
    "\n",
    "Configure Logging Format: Optionally, configure a log formatter to customize the format of log messages. This allows you to specify the layout and content of log messages.\n",
    "\n",
    "Add Handlers to Logger: Add the log handlers to the logger using the addHandler() method. This associates the handlers with the logger, allowing them to capture log messages generated by the logger.\n",
    "\n",
    "Use the Logger: In your modules or classes, use the logger object to generate log messages using methods such as debug(), info(), warning(), error(), and critical(). These methods will send log messages to all the handlers associated with the logger.\n",
    "\n",
    "9. What is the difference between the logging and print statements in Python? When should you use logging over print statements in a real-world application?\n",
    "\n",
    "Ans: In Python, both logging and print statements serve the purpose of displaying information, but they have distinct functionalities and are used for different purposes.\n",
    "\n",
    "1. Logging is a technique to display useful messages and warnings to users, providing a flexible way to log messages in various output destinations like the console, files, and networks. other hand, the print statement is a built-in function mainly used for debugging and displaying values to the console.\n",
    "\n",
    "2. Logging offers log levels (Debug, Info, Error, Warning, Critical), filtering, formatting, and more. Print statements does not have log levels; it simply prints whatever is passed to it.\n",
    "\n",
    "3. Logging is recommended for production code due to its features like log levels and filtering. Other hand, commonly used for quick debugging or displaying simple information during development.\n",
    "\n",
    "10. Write a Python program that logs a message to a file named \"app.log\" with the following requirements:\n",
    "\n",
    "● The log message should be \"Hello, World!\"\n",
    "\n",
    "● The log level should be set to \"INFO.\"\n",
    "\n",
    "● The log file should append new log entries without overwriting previous ones."
   ]
  },
  {
   "cell_type": "code",
   "execution_count": 5,
   "id": "6fff5495",
   "metadata": {},
   "outputs": [],
   "source": [
    "import logging\n",
    "\n",
    "# Configure logging to write to a file named \"app.log\"\n",
    "logging.basicConfig(filename='app.log', level=logging.INFO, format='%(asctime)s - %(levelname)s - %(message)s')\n",
    "\n",
    "# Log the message \"Hello, World!\" with log level INFO\n",
    "logging.info(\"Hello, World!\")"
   ]
  },
  {
   "cell_type": "markdown",
   "id": "5f4fa551",
   "metadata": {},
   "source": [
    "#### 11. Create a Python program that logs an error message to the console and a file named \"errors.log\" if an exception occurs during the program's execution. The error message should include the exception type and a timestamp."
   ]
  },
  {
   "cell_type": "code",
   "execution_count": 6,
   "id": "39929923",
   "metadata": {},
   "outputs": [],
   "source": [
    "import logging\n",
    "import datetime\n",
    "\n",
    "logging.basicConfig(level=logging.ERROR, format='%(asctime)s - %(levelname)s - %(message)s', handlers=[logging.FileHandler('errors.log'), logging.StreamHandler()])\n",
    "\n",
    "try:\n",
    "    result = 10 / 0  # This will raise a ZeroDivisionError\n",
    "except Exception as e:\n",
    "    # Log the error message with exception type and timestamp\n",
    "    logging.error(f\"An exception occurred: {type(e).__name__} - {datetime.datetime.now()}\")"
   ]
  },
  {
   "cell_type": "code",
   "execution_count": null,
   "id": "72440dfe",
   "metadata": {},
   "outputs": [],
   "source": []
  }
 ],
 "metadata": {
  "kernelspec": {
   "display_name": "Python 3 (ipykernel)",
   "language": "python",
   "name": "python3"
  },
  "language_info": {
   "codemirror_mode": {
    "name": "ipython",
    "version": 3
   },
   "file_extension": ".py",
   "mimetype": "text/x-python",
   "name": "python",
   "nbconvert_exporter": "python",
   "pygments_lexer": "ipython3",
   "version": "3.10.9"
  }
 },
 "nbformat": 4,
 "nbformat_minor": 5
}
